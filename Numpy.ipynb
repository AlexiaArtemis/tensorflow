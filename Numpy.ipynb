{
 "cells": [
  {
   "cell_type": "markdown",
   "metadata": {},
   "source": [
    "# NumPy Crash Course\n",
    "\n",
    "Hi there, \n",
    "\n",
    "Today we will take a look at the NumPy Python library. NumPy is used for numerical processing. Keep in mind that some basic Python knowledge is required. I recommend that you follow along with a Jupyter-notebook so that you can see the output of the code and also experiment using different inputs.\n"
   ]
  },
  {
   "cell_type": "markdown",
   "metadata": {},
   "source": [
    "In this article you will learn how to:\n",
    "* Create numpy arrays\n",
    "* Generate random numbers, and how to set a seed\n",
    "* Perform operations using arrays\n",
    "* How to reshape an array\n",
    "* From an N-dimensional array how to:\n",
    "    1. get  a single element\n",
    "    2. get  a row and a column\n",
    "    3. slice\n",
    "    4. do masking\n",
    "\n",
    "\n",
    "Along the way, we will see some __tips__ and __tricks__ you can use to make coding more efficient and easy.\n",
    "\n",
    "I hope you will enjoy it 🙂"
   ]
  },
  {
   "cell_type": "markdown",
   "metadata": {},
   "source": [
    "First do _pip install numpy_ , then import it in your jupyter notebook:"
   ]
  },
  {
   "cell_type": "code",
   "execution_count": 1,
   "metadata": {},
   "outputs": [],
   "source": [
    "import numpy as np"
   ]
  },
  {
   "cell_type": "code",
   "execution_count": 5,
   "metadata": {},
   "outputs": [],
   "source": [
    "?np.random.randint"
   ]
  },
  {
   "cell_type": "markdown",
   "metadata": {},
   "source": [
    "## Creating numpy arrays\n",
    "Creating arrays can be done using a list, or built-in functions. Let's see how each of them works.\n",
    "\n",
    "### A. Creating numpy arrays using a list\n",
    "We can create an array using a list. \n",
    "\n",
    "We first create a list"
   ]
  },
  {
   "cell_type": "code",
   "execution_count": 2,
   "metadata": {},
   "outputs": [
    {
     "data": {
      "text/plain": [
       "[0, 1, 2, 3]"
      ]
     },
     "execution_count": 2,
     "metadata": {},
     "output_type": "execute_result"
    }
   ],
   "source": [
    "my_list = [0,1,2,3]\n",
    "my_list"
   ]
  },
  {
   "cell_type": "markdown",
   "metadata": {},
   "source": [
    "and then convert it to a numpy array."
   ]
  },
  {
   "cell_type": "code",
   "execution_count": 3,
   "metadata": {},
   "outputs": [
    {
     "data": {
      "text/plain": [
       "array([0, 1, 2, 3])"
      ]
     },
     "execution_count": 3,
     "metadata": {},
     "output_type": "execute_result"
    }
   ],
   "source": [
    "my_array = np.array(my_list)\n",
    "my_array"
   ]
  },
  {
   "cell_type": "markdown",
   "metadata": {},
   "source": [
    "### B. Creating numpy arrays using built-in functions\n",
    "Numpy has many built-in functions that provide a fast and efficient way to do create arrays.\n",
    "\n",
    "## Trick:\n",
    "To see all available functions, type the name of your array and then press tab."
   ]
  },
  {
   "cell_type": "code",
   "execution_count": null,
   "metadata": {},
   "outputs": [],
   "source": [
    "my_array.  # press tab"
   ]
  },
  {
   "cell_type": "markdown",
   "metadata": {},
   "source": [
    "#### 1. Arange built-in function. \n",
    "Imagine you want to create an array of size 5 which has numbers from 0 to 4. \n",
    "We could do it like this:"
   ]
  },
  {
   "cell_type": "code",
   "execution_count": 4,
   "metadata": {},
   "outputs": [
    {
     "data": {
      "text/plain": [
       "array([0, 1, 2, 3, 4])"
      ]
     },
     "execution_count": 4,
     "metadata": {},
     "output_type": "execute_result"
    }
   ],
   "source": [
    "np.array([0,1,2,3,4])"
   ]
  },
  {
   "cell_type": "markdown",
   "metadata": {},
   "source": [
    "But let's say that we need to create an array of size 100 which has all the numbers from 0 to 99. It would probably be very painful to do it using the previous method. This is where arange comes to save the day. \n",
    "\n",
    "Here we simply need to specify the starting point and the endpoint (note that the endpoint will not be included in the array)."
   ]
  },
  {
   "cell_type": "code",
   "execution_count": 5,
   "metadata": {},
   "outputs": [
    {
     "data": {
      "text/plain": [
       "array([ 0,  1,  2,  3,  4,  5,  6,  7,  8,  9, 10, 11, 12, 13, 14, 15, 16,\n",
       "       17, 18, 19, 20, 21, 22, 23, 24, 25, 26, 27, 28, 29, 30, 31, 32, 33,\n",
       "       34, 35, 36, 37, 38, 39, 40, 41, 42, 43, 44, 45, 46, 47, 48, 49, 50,\n",
       "       51, 52, 53, 54, 55, 56, 57, 58, 59, 60, 61, 62, 63, 64, 65, 66, 67,\n",
       "       68, 69, 70, 71, 72, 73, 74, 75, 76, 77, 78, 79, 80, 81, 82, 83, 84,\n",
       "       85, 86, 87, 88, 89, 90, 91, 92, 93, 94, 95, 96, 97, 98, 99])"
      ]
     },
     "execution_count": 5,
     "metadata": {},
     "output_type": "execute_result"
    }
   ],
   "source": [
    "np.arange(0, 100)"
   ]
  },
  {
   "cell_type": "markdown",
   "metadata": {},
   "source": [
    "We can also specify a step size. Let's say we want every second element of this array, we can simply do it with adding the step size in the arange function:"
   ]
  },
  {
   "cell_type": "code",
   "execution_count": 6,
   "metadata": {},
   "outputs": [
    {
     "data": {
      "text/plain": [
       "array([ 0,  2,  4,  6,  8, 10, 12, 14, 16, 18, 20, 22, 24, 26, 28, 30, 32,\n",
       "       34, 36, 38, 40, 42, 44, 46, 48, 50, 52, 54, 56, 58, 60, 62, 64, 66,\n",
       "       68, 70, 72, 74, 76, 78, 80, 82, 84, 86, 88, 90, 92, 94, 96, 98])"
      ]
     },
     "execution_count": 6,
     "metadata": {},
     "output_type": "execute_result"
    }
   ],
   "source": [
    "np.arange(0, 100, 2)"
   ]
  },
  {
   "cell_type": "markdown",
   "metadata": {},
   "source": [
    "#### 2. Linspace built-in function, to create linearly spaced arrays\n",
    "Linspace takes as input a starting point, an endpoint, and the number of points evenly spaced between them which also indicates the length of the array. \n",
    "\n",
    "Let's see an example"
   ]
  },
  {
   "cell_type": "code",
   "execution_count": 7,
   "metadata": {},
   "outputs": [
    {
     "data": {
      "text/plain": [
       "array([ 1.  ,  3.25,  5.5 ,  7.75, 10.  ])"
      ]
     },
     "execution_count": 7,
     "metadata": {},
     "output_type": "execute_result"
    }
   ],
   "source": [
    "np.linspace(1, 10, 5) # From 0 to 10, 5 elements, evenly spaced between them."
   ]
  },
  {
   "cell_type": "markdown",
   "metadata": {},
   "source": [
    "Here the starting point is 1 and the endpoint is 10. Linspace creates an array with 5 evenly spaced numbers between the start and endpoint."
   ]
  },
  {
   "cell_type": "markdown",
   "metadata": {},
   "source": [
    "#### 3. Random built-in function to create random arrays\n",
    "What if we don't care about what numbers our array will have? Well, we simply put random numbers there, right? The random.randint function does exactly that. \n",
    "\n",
    "It takes as inputs a starting point, an endpoint (which is not included in the array), and a size of the shape (no worries, we will look into it in a bit)."
   ]
  },
  {
   "cell_type": "code",
   "execution_count": 8,
   "metadata": {},
   "outputs": [
    {
     "data": {
      "text/plain": [
       "array([[2, 0],\n",
       "       [0, 2]])"
      ]
     },
     "execution_count": 8,
     "metadata": {},
     "output_type": "execute_result"
    }
   ],
   "source": [
    "np.random.randint(0, 4, (2,2))"
   ]
  },
  {
   "cell_type": "markdown",
   "metadata": {},
   "source": [
    "Ok but now I want to generate the same random numbers with you! How can we do it?\n",
    "\n",
    "Simple, we will use a seed! If you type in one sell : "
   ]
  },
  {
   "cell_type": "raw",
   "metadata": {},
   "source": [
    "np.random.seed(12)\n",
    "same_arr = np.random.randint(0, 10, 20)\n",
    "same_arr"
   ]
  },
  {
   "cell_type": "markdown",
   "metadata": {},
   "source": [
    "we will get the same random numbers!"
   ]
  },
  {
   "cell_type": "code",
   "execution_count": 9,
   "metadata": {},
   "outputs": [
    {
     "data": {
      "text/plain": [
       "array([6, 1, 2, 3, 3, 0, 6, 1, 4, 5, 9, 2, 6, 0, 5, 8, 2, 9, 3, 4])"
      ]
     },
     "execution_count": 9,
     "metadata": {},
     "output_type": "execute_result"
    }
   ],
   "source": [
    "np.random.seed(12)\n",
    "same_arr = np.random.randint(0, 10, 20)\n",
    "same_arr"
   ]
  },
  {
   "cell_type": "markdown",
   "metadata": {},
   "source": [
    "#### 4. Sample from a normal (Gaussian) distribution\n",
    "\n",
    "What if we need a sample of size 100 from the Gaussian distribution, with mean 0 and standard deviation 1?\n",
    "Well, we use again .random but here instead of .randint we use .normal!"
   ]
  },
  {
   "cell_type": "code",
   "execution_count": 10,
   "metadata": {},
   "outputs": [
    {
     "data": {
      "text/plain": [
       "array([ 2.70684984e+00,  6.28132709e-01,  9.07969446e-01,  5.03825754e-01,\n",
       "        6.51117948e-01, -3.19318045e-01, -8.48076983e-01,  6.05965349e-01,\n",
       "       -2.01816824e+00,  7.40122057e-01,  5.28813494e-01, -5.89000533e-01,\n",
       "        1.88695309e-01, -7.58872056e-01, -9.33237216e-01,  9.55056509e-01,\n",
       "        1.90794322e-01,  1.97875732e+00,  2.60596728e+00,  6.83508886e-01,\n",
       "        3.02665449e-01,  1.69372293e+00, -1.70608593e+00, -1.15911942e+00,\n",
       "       -1.34840721e-01,  3.90527843e-01,  1.66904636e-01,  1.84501859e-01,\n",
       "        8.07705914e-01,  7.29596753e-02,  6.38787013e-01,  3.29646299e-01,\n",
       "       -4.97104023e-01, -7.54069701e-01, -9.43406403e-01,  4.84751647e-01,\n",
       "       -1.16773316e-01,  1.90175480e+00,  2.38126959e-01,  1.99665229e+00,\n",
       "       -9.93263500e-01,  1.96799505e-01, -1.13664459e+00,  3.66479606e-04,\n",
       "        1.02598415e+00, -1.56597904e-01, -3.15791439e-02,  6.49825833e-01,\n",
       "        2.15484644e+00, -6.10258856e-01, -7.55325340e-01, -3.46418504e-01,\n",
       "        1.47026771e-01, -4.79448039e-01,  5.58769406e-01,  1.02481028e+00,\n",
       "       -9.25874259e-01,  1.86286414e+00, -1.13381716e+00,  6.10477908e-01,\n",
       "        3.86030312e-01,  2.08401853e+00, -3.76518675e-01,  2.30336344e-01,\n",
       "        6.81209293e-01,  1.03512507e+00, -3.11604815e-02,  1.93993231e+00,\n",
       "       -1.00518692e+00, -7.41789705e-01,  1.87124522e-01, -7.32845148e-01,\n",
       "       -1.38292010e+00,  1.48249550e+00,  9.61458156e-01, -2.14121229e+00,\n",
       "        9.92573453e-01,  1.19224064e+00, -1.04677954e+00,  1.29276458e+00,\n",
       "       -1.46751402e+00, -4.94095358e-01, -1.62534735e-01,  4.85808737e-01,\n",
       "        3.92488811e-01,  2.21490685e-01, -8.55196041e-01,  1.54199041e+00,\n",
       "        6.66319321e-01, -5.38234626e-01, -5.68581361e-01,  1.40733825e+00,\n",
       "        6.41805511e-01, -9.05099902e-01, -3.91156627e-01,  1.02829316e+00,\n",
       "       -1.97260510e+00, -8.66885035e-01,  7.20787599e-01, -1.22308204e+00])"
      ]
     },
     "execution_count": 10,
     "metadata": {},
     "output_type": "execute_result"
    }
   ],
   "source": [
    "np.random.seed(101)\n",
    "norm_arr = np.random.normal(0, 1, 100)\n",
    "norm_arr"
   ]
  },
  {
   "cell_type": "markdown",
   "metadata": {},
   "source": [
    "## Trick!\n",
    "Type __?np.random.normal__ and you will get the information about how to use this function. This helps a lot if you don't want to remember what inputs each function needs and what the function returns."
   ]
  },
  {
   "cell_type": "code",
   "execution_count": null,
   "metadata": {},
   "outputs": [],
   "source": [
    "?np.random.normal"
   ]
  },
  {
   "cell_type": "markdown",
   "metadata": {},
   "source": [
    "Let's check if the mean of the norm_arr array is close to 0 and the standard deviation close to 1."
   ]
  },
  {
   "cell_type": "code",
   "execution_count": 11,
   "metadata": {},
   "outputs": [
    {
     "data": {
      "text/plain": [
       "0.166369880423112"
      ]
     },
     "execution_count": 11,
     "metadata": {},
     "output_type": "execute_result"
    }
   ],
   "source": [
    "norm_arr.mean()"
   ]
  },
  {
   "cell_type": "code",
   "execution_count": 12,
   "metadata": {},
   "outputs": [
    {
     "data": {
      "text/plain": [
       "1.0338189430873386"
      ]
     },
     "execution_count": 12,
     "metadata": {},
     "output_type": "execute_result"
    }
   ],
   "source": [
    "norm_arr.std()"
   ]
  },
  {
   "cell_type": "markdown",
   "metadata": {},
   "source": [
    "If you increase the sample size these numbers will get closer and closer to 0 and 1 respectively.\n",
    "\n",
    "Let's find the minimum and maximum number in the norm_arr array and at which index each of these are!"
   ]
  },
  {
   "cell_type": "code",
   "execution_count": 13,
   "metadata": {},
   "outputs": [
    {
     "data": {
      "text/plain": [
       "-2.1412122910809264"
      ]
     },
     "execution_count": 13,
     "metadata": {},
     "output_type": "execute_result"
    }
   ],
   "source": [
    "norm_arr.min() # minimun value"
   ]
  },
  {
   "cell_type": "code",
   "execution_count": 14,
   "metadata": {},
   "outputs": [
    {
     "data": {
      "text/plain": [
       "2.706849839399938"
      ]
     },
     "execution_count": 14,
     "metadata": {},
     "output_type": "execute_result"
    }
   ],
   "source": [
    "norm_arr.max() # maximun value"
   ]
  },
  {
   "cell_type": "code",
   "execution_count": 15,
   "metadata": {},
   "outputs": [
    {
     "data": {
      "text/plain": [
       "75"
      ]
     },
     "execution_count": 15,
     "metadata": {},
     "output_type": "execute_result"
    }
   ],
   "source": [
    "norm_arr.argmin() # index of the minimun value"
   ]
  },
  {
   "cell_type": "code",
   "execution_count": 16,
   "metadata": {},
   "outputs": [
    {
     "data": {
      "text/plain": [
       "0"
      ]
     },
     "execution_count": 16,
     "metadata": {},
     "output_type": "execute_result"
    }
   ],
   "source": [
    "norm_arr.argmax() # index of the maximun value"
   ]
  },
  {
   "cell_type": "markdown",
   "metadata": {},
   "source": [
    "The last step is to put everything in order. Let's sort the _norm_arr_ array!"
   ]
  },
  {
   "cell_type": "code",
   "execution_count": 17,
   "metadata": {},
   "outputs": [
    {
     "data": {
      "text/plain": [
       "array([-2.14121229e+00, -2.01816824e+00, -1.97260510e+00, -1.70608593e+00,\n",
       "       -1.46751402e+00, -1.38292010e+00, -1.22308204e+00, -1.15911942e+00,\n",
       "       -1.13664459e+00, -1.13381716e+00, -1.04677954e+00, -1.00518692e+00,\n",
       "       -9.93263500e-01, -9.43406403e-01, -9.33237216e-01, -9.25874259e-01,\n",
       "       -9.05099902e-01, -8.66885035e-01, -8.55196041e-01, -8.48076983e-01,\n",
       "       -7.58872056e-01, -7.55325340e-01, -7.54069701e-01, -7.41789705e-01,\n",
       "       -7.32845148e-01, -6.10258856e-01, -5.89000533e-01, -5.68581361e-01,\n",
       "       -5.38234626e-01, -4.97104023e-01, -4.94095358e-01, -4.79448039e-01,\n",
       "       -3.91156627e-01, -3.76518675e-01, -3.46418504e-01, -3.19318045e-01,\n",
       "       -1.62534735e-01, -1.56597904e-01, -1.34840721e-01, -1.16773316e-01,\n",
       "       -3.15791439e-02, -3.11604815e-02,  3.66479606e-04,  7.29596753e-02,\n",
       "        1.47026771e-01,  1.66904636e-01,  1.84501859e-01,  1.87124522e-01,\n",
       "        1.88695309e-01,  1.90794322e-01,  1.96799505e-01,  2.21490685e-01,\n",
       "        2.30336344e-01,  2.38126959e-01,  3.02665449e-01,  3.29646299e-01,\n",
       "        3.86030312e-01,  3.90527843e-01,  3.92488811e-01,  4.84751647e-01,\n",
       "        4.85808737e-01,  5.03825754e-01,  5.28813494e-01,  5.58769406e-01,\n",
       "        6.05965349e-01,  6.10477908e-01,  6.28132709e-01,  6.38787013e-01,\n",
       "        6.41805511e-01,  6.49825833e-01,  6.51117948e-01,  6.66319321e-01,\n",
       "        6.81209293e-01,  6.83508886e-01,  7.20787599e-01,  7.40122057e-01,\n",
       "        8.07705914e-01,  9.07969446e-01,  9.55056509e-01,  9.61458156e-01,\n",
       "        9.92573453e-01,  1.02481028e+00,  1.02598415e+00,  1.02829316e+00,\n",
       "        1.03512507e+00,  1.19224064e+00,  1.29276458e+00,  1.40733825e+00,\n",
       "        1.48249550e+00,  1.54199041e+00,  1.69372293e+00,  1.86286414e+00,\n",
       "        1.90175480e+00,  1.93993231e+00,  1.97875732e+00,  1.99665229e+00,\n",
       "        2.08401853e+00,  2.15484644e+00,  2.60596728e+00,  2.70684984e+00])"
      ]
     },
     "execution_count": 17,
     "metadata": {},
     "output_type": "execute_result"
    }
   ],
   "source": [
    "np.sort(norm_arr)"
   ]
  },
  {
   "cell_type": "markdown",
   "metadata": {},
   "source": [
    "Now we have an array that starts with the minimum value and goes up to the maximum."
   ]
  },
  {
   "cell_type": "markdown",
   "metadata": {},
   "source": [
    "### Tip:\n",
    "1. To check the dimensions of an array use the name of your array and then .ndim\n",
    "2. To check the shape of an array use the name of your array and then .shape\n",
    "\n",
    "But what are the dimensions and the shape of an array?\n",
    "\n",
    "Let's look at an example.\n",
    "\n",
    "Imagine what you have a nested list looking like this: \n",
    "\n",
    "[ [1,2], [3,4],[5,6],[7,8] ]\n",
    "\n",
    "Here, you have one list, and inside that list, you have 4 more lists, each of them has 2 elements. Great. Now imagine having an even bigger list, containing 3 times the previous one! And we transform all of these lists to numpy arrays."
   ]
  },
  {
   "cell_type": "code",
   "execution_count": 18,
   "metadata": {},
   "outputs": [
    {
     "data": {
      "text/plain": [
       "array([1, 2])"
      ]
     },
     "execution_count": 18,
     "metadata": {},
     "output_type": "execute_result"
    }
   ],
   "source": [
    "small_array  = np.array([1,2])\n",
    "small_array"
   ]
  },
  {
   "cell_type": "code",
   "execution_count": 19,
   "metadata": {},
   "outputs": [
    {
     "data": {
      "text/plain": [
       "array([[1, 2],\n",
       "       [3, 4],\n",
       "       [5, 6],\n",
       "       [7, 8]])"
      ]
     },
     "execution_count": 19,
     "metadata": {},
     "output_type": "execute_result"
    }
   ],
   "source": [
    "medium_array = np.array([[1,2],[3,4],[5,6],[7,8]])\n",
    "medium_array"
   ]
  },
  {
   "cell_type": "code",
   "execution_count": 20,
   "metadata": {},
   "outputs": [
    {
     "data": {
      "text/plain": [
       "array([[[1, 2],\n",
       "        [3, 4],\n",
       "        [5, 6],\n",
       "        [7, 8]],\n",
       "\n",
       "       [[1, 2],\n",
       "        [3, 4],\n",
       "        [5, 6],\n",
       "        [7, 8]],\n",
       "\n",
       "       [[1, 2],\n",
       "        [3, 4],\n",
       "        [5, 6],\n",
       "        [7, 8]]])"
      ]
     },
     "execution_count": 20,
     "metadata": {},
     "output_type": "execute_result"
    }
   ],
   "source": [
    "big_array = np.array([ [[1,2],[3,4],[5,6],[7,8]] , [[1,2],[3,4],[5,6],[7,8]], [[1,2],[3,4],[5,6],[7,8]] ])\n",
    "big_array"
   ]
  },
  {
   "cell_type": "markdown",
   "metadata": {},
   "source": [
    "We learned that to get the dimensions from an array we use .ndim, so let's try it out!"
   ]
  },
  {
   "cell_type": "code",
   "execution_count": 21,
   "metadata": {},
   "outputs": [
    {
     "data": {
      "text/plain": [
       "1"
      ]
     },
     "execution_count": 21,
     "metadata": {},
     "output_type": "execute_result"
    }
   ],
   "source": [
    "small_array.ndim"
   ]
  },
  {
   "cell_type": "code",
   "execution_count": 22,
   "metadata": {},
   "outputs": [
    {
     "data": {
      "text/plain": [
       "2"
      ]
     },
     "execution_count": 22,
     "metadata": {},
     "output_type": "execute_result"
    }
   ],
   "source": [
    "medium_array.ndim"
   ]
  },
  {
   "cell_type": "code",
   "execution_count": 23,
   "metadata": {},
   "outputs": [
    {
     "data": {
      "text/plain": [
       "3"
      ]
     },
     "execution_count": 23,
     "metadata": {},
     "output_type": "execute_result"
    }
   ],
   "source": [
    "big_array.ndim"
   ]
  },
  {
   "cell_type": "markdown",
   "metadata": {},
   "source": [
    "To see that shape of an array use .shape"
   ]
  },
  {
   "cell_type": "code",
   "execution_count": 24,
   "metadata": {},
   "outputs": [
    {
     "data": {
      "text/plain": [
       "(2,)"
      ]
     },
     "execution_count": 24,
     "metadata": {},
     "output_type": "execute_result"
    }
   ],
   "source": [
    "small_array.shape"
   ]
  },
  {
   "cell_type": "code",
   "execution_count": 25,
   "metadata": {},
   "outputs": [
    {
     "data": {
      "text/plain": [
       "(4, 2)"
      ]
     },
     "execution_count": 25,
     "metadata": {},
     "output_type": "execute_result"
    }
   ],
   "source": [
    "medium_array.shape"
   ]
  },
  {
   "cell_type": "code",
   "execution_count": 26,
   "metadata": {},
   "outputs": [
    {
     "data": {
      "text/plain": [
       "(3, 4, 2)"
      ]
     },
     "execution_count": 26,
     "metadata": {},
     "output_type": "execute_result"
    }
   ],
   "source": [
    "big_array.shape"
   ]
  },
  {
   "cell_type": "markdown",
   "metadata": {},
   "source": [
    "What we see here is that the dimensions have to do with how nested the lists are!\n",
    "\n",
    "The shape of an array is the length of the lists used to create the array. In the big_array, we have 3 lists, each of them has 4 lists nested in them and each of these 4 lists is of length 2. So the shape is: (3, 4, 2)"
   ]
  },
  {
   "cell_type": "markdown",
   "metadata": {},
   "source": [
    "#### 5. Arrays of zeros\n",
    "To create an array which has zero at each index we need to specify:\n",
    "1. The length of the array.\n",
    "2. The shape (as a tuple). When no shape is specified, the default\n",
    " is (array's length, ).\n",
    "\n",
    "\n",
    "The output is an array with floats of 0's."
   ]
  },
  {
   "cell_type": "code",
   "execution_count": 27,
   "metadata": {},
   "outputs": [
    {
     "data": {
      "text/plain": [
       "array([0., 0., 0.])"
      ]
     },
     "execution_count": 27,
     "metadata": {},
     "output_type": "execute_result"
    }
   ],
   "source": [
    "# (3,) shape numpy array with 3 zeros\n",
    "array1 = np.zeros(3)\n",
    "array1"
   ]
  },
  {
   "cell_type": "code",
   "execution_count": 28,
   "metadata": {},
   "outputs": [
    {
     "data": {
      "text/plain": [
       "array([[0., 0., 0.],\n",
       "       [0., 0., 0.]])"
      ]
     },
     "execution_count": 28,
     "metadata": {},
     "output_type": "execute_result"
    }
   ],
   "source": [
    "# (2,3) shape numpy array with 6 zeros\n",
    "array2 = np.zeros((2,3))\n",
    "array2"
   ]
  },
  {
   "cell_type": "markdown",
   "metadata": {},
   "source": [
    "#### 6. Arrays of ones\n",
    "As with the .zeros function, the same things apply here. To create an array which has one at each index we need to specify:\n",
    "1. The length of the array.\n",
    "2. The shape (as a tuple). When no shape is specified, the default is (array's length, ).\n",
    "\n",
    "The output is an array with floats of 1's."
   ]
  },
  {
   "cell_type": "code",
   "execution_count": 29,
   "metadata": {},
   "outputs": [
    {
     "data": {
      "text/plain": [
       "array([1., 1., 1.])"
      ]
     },
     "execution_count": 29,
     "metadata": {},
     "output_type": "execute_result"
    }
   ],
   "source": [
    "# (3,) shape array with 3 ones\n",
    "np.ones(3)"
   ]
  },
  {
   "cell_type": "code",
   "execution_count": 30,
   "metadata": {},
   "outputs": [
    {
     "data": {
      "text/plain": [
       "array([[1., 1., 1.],\n",
       "       [1., 1., 1.]])"
      ]
     },
     "execution_count": 30,
     "metadata": {},
     "output_type": "execute_result"
    }
   ],
   "source": [
    "# (2,3) shape array with 6 ones\n",
    "np.ones((2,3))"
   ]
  },
  {
   "cell_type": "markdown",
   "metadata": {},
   "source": [
    "#### 7. Full built-in function\n",
    "\n",
    "O's and 1's are maybe not the only numbers that we probably want to use. What if we want to create an array which has at each index is the number 4? We can use the built-in function full.\n",
    "\n",
    "First, we specify the shape of the array and then the number that we want at each index."
   ]
  },
  {
   "cell_type": "code",
   "execution_count": 31,
   "metadata": {},
   "outputs": [
    {
     "data": {
      "text/plain": [
       "array([[4, 4, 4],\n",
       "       [4, 4, 4]])"
      ]
     },
     "execution_count": 31,
     "metadata": {},
     "output_type": "execute_result"
    }
   ],
   "source": [
    "all_4 = np.full((2, 3), 4)\n",
    "all_4"
   ]
  },
  {
   "cell_type": "markdown",
   "metadata": {},
   "source": [
    "---\n",
    "### At this point, we know two ways to create numpy arrays. \n",
    "The first way is using a list, and the second-way using built-in functions. Now it's time to discover what we can do with these arrays! First, we will take a look at how to perform operations, then how to reshape the array, and finally how to access specific elements from an array.   \n",
    "\n",
    "\n",
    "---\n",
    "\n",
    "\n",
    "### Operations\n",
    "Let's say we have two arrays called _a_ and _b_ with the same shape and length. \n",
    "\n",
    "We can:\n",
    "* Take the sum of the corresponding indexes.\n",
    "* Add at each index the element value.\n",
    "\n",
    "The same things apply to subtraction, multiplications, and division.\n",
    "\n",
    "\n",
    "\n"
   ]
  },
  {
   "cell_type": "code",
   "execution_count": 32,
   "metadata": {},
   "outputs": [
    {
     "data": {
      "text/plain": [
       "array([1, 9, 9])"
      ]
     },
     "execution_count": 32,
     "metadata": {},
     "output_type": "execute_result"
    }
   ],
   "source": [
    "a = np.random.randint(0, 10, 3) # Array with 3 random numbers.\n",
    "a"
   ]
  },
  {
   "cell_type": "code",
   "execution_count": 33,
   "metadata": {},
   "outputs": [
    {
     "data": {
      "text/plain": [
       "array([2, 0, 2])"
      ]
     },
     "execution_count": 33,
     "metadata": {},
     "output_type": "execute_result"
    }
   ],
   "source": [
    "b = np.random.randint(0, 10, 3) # Array with 3 random numbers.\n",
    "b"
   ]
  },
  {
   "cell_type": "code",
   "execution_count": 34,
   "metadata": {},
   "outputs": [
    {
     "data": {
      "text/plain": [
       "array([ 3,  9, 11])"
      ]
     },
     "execution_count": 34,
     "metadata": {},
     "output_type": "execute_result"
    }
   ],
   "source": [
    "a + b # addition of two arrays"
   ]
  },
  {
   "cell_type": "code",
   "execution_count": 35,
   "metadata": {},
   "outputs": [
    {
     "data": {
      "text/plain": [
       "array([ 2, 10, 10])"
      ]
     },
     "execution_count": 35,
     "metadata": {},
     "output_type": "execute_result"
    }
   ],
   "source": [
    "a + 1 # adding 1 to each element of a"
   ]
  },
  {
   "cell_type": "markdown",
   "metadata": {},
   "source": [
    "### Reshape\n",
    "Imagine that we have an array of length 9. "
   ]
  },
  {
   "cell_type": "code",
   "execution_count": 36,
   "metadata": {},
   "outputs": [
    {
     "name": "stdout",
     "output_type": "stream",
     "text": [
      "[0 1 2 3 4 5 6 7 8]\n"
     ]
    },
    {
     "data": {
      "text/plain": [
       "(9,)"
      ]
     },
     "execution_count": 36,
     "metadata": {},
     "output_type": "execute_result"
    }
   ],
   "source": [
    "first_arr = np.arange(0,9)\n",
    "print(first_arr)\n",
    "first_arr.shape"
   ]
  },
  {
   "cell_type": "markdown",
   "metadata": {},
   "source": [
    "The goal here is to create a new array, containing the same data but with a new shape! Let's choose (3,3) shape. We can use the reshape built-in function."
   ]
  },
  {
   "cell_type": "code",
   "execution_count": 37,
   "metadata": {},
   "outputs": [
    {
     "name": "stdout",
     "output_type": "stream",
     "text": [
      "[[0 1 2]\n",
      " [3 4 5]\n",
      " [6 7 8]]\n"
     ]
    },
    {
     "data": {
      "text/plain": [
       "(3, 3)"
      ]
     },
     "execution_count": 37,
     "metadata": {},
     "output_type": "execute_result"
    }
   ],
   "source": [
    "sec_arr = first_arr.reshape(3,3)\n",
    "print(sec_arr)\n",
    "sec_arr.shape"
   ]
  },
  {
   "cell_type": "markdown",
   "metadata": {},
   "source": [
    "So now we have spit the first array in 3 parts, creating a (3,3) shaped array! Can you guess the dimension of the second array? How many things do you see nested inside the array? Let's check:"
   ]
  },
  {
   "cell_type": "code",
   "execution_count": 38,
   "metadata": {},
   "outputs": [
    {
     "data": {
      "text/plain": [
       "2"
      ]
     },
     "execution_count": 38,
     "metadata": {},
     "output_type": "execute_result"
    }
   ],
   "source": [
    "sec_arr.ndim"
   ]
  },
  {
   "cell_type": "markdown",
   "metadata": {},
   "source": [
    "It's like the medium_array we saw previously."
   ]
  },
  {
   "cell_type": "markdown",
   "metadata": {},
   "source": [
    "###  Access specific elements from an array\n",
    "We created our arrays, of various dimensions and shapes. But how can we access the elements that we want?\n",
    "\n",
    "First, think of a 2-dim array, having 5 nested arrays, of 5 elements each. You can have this array as a matrix in your head. "
   ]
  },
  {
   "cell_type": "code",
   "execution_count": 3,
   "metadata": {},
   "outputs": [
    {
     "data": {
      "text/plain": [
       "array([[ 0,  1,  2,  3,  4],\n",
       "       [ 5,  6,  7,  8,  9],\n",
       "       [10, 11, 12, 13, 14],\n",
       "       [15, 16, 17, 18, 19],\n",
       "       [20, 21, 22, 23, 24]])"
      ]
     },
     "execution_count": 3,
     "metadata": {},
     "output_type": "execute_result"
    }
   ],
   "source": [
    "mat = np.arange(0, 25).reshape(5, 5)\n",
    "mat"
   ]
  },
  {
   "cell_type": "markdown",
   "metadata": {},
   "source": [
    "#### Get the first element of the matrix.\n",
    "But what _is_ here the first element? Well, we have a nested array, so the first element should be an array right? \n",
    "Let's check. \n",
    "\n",
    "_Note that the indexing in python starts at 0!_"
   ]
  },
  {
   "cell_type": "code",
   "execution_count": 40,
   "metadata": {},
   "outputs": [
    {
     "data": {
      "text/plain": [
       "array([0, 1, 2, 3, 4])"
      ]
     },
     "execution_count": 40,
     "metadata": {},
     "output_type": "execute_result"
    }
   ],
   "source": [
    "mat[0]"
   ]
  },
  {
   "cell_type": "markdown",
   "metadata": {},
   "source": [
    "#### Get the last element of the matrix.\n",
    "Instead of counting how long your array is you can use -1 to get the last element."
   ]
  },
  {
   "cell_type": "code",
   "execution_count": 41,
   "metadata": {},
   "outputs": [
    {
     "data": {
      "text/plain": [
       "array([20, 21, 22, 23, 24])"
      ]
     },
     "execution_count": 41,
     "metadata": {},
     "output_type": "execute_result"
    }
   ],
   "source": [
    "mat[-1]"
   ]
  },
  {
   "cell_type": "markdown",
   "metadata": {},
   "source": [
    "#### Get a single element\n",
    "Now let's say we want to get the value 0 of this matrix."
   ]
  },
  {
   "cell_type": "code",
   "execution_count": 42,
   "metadata": {},
   "outputs": [
    {
     "data": {
      "text/plain": [
       "0"
      ]
     },
     "execution_count": 42,
     "metadata": {},
     "output_type": "execute_result"
    }
   ],
   "source": [
    "mat[0,0]"
   ]
  },
  {
   "cell_type": "markdown",
   "metadata": {},
   "source": [
    "#### Get the 3rd row\n",
    "Again, indexing starts at 0, so the 3rd row is at index 2."
   ]
  },
  {
   "cell_type": "code",
   "execution_count": 43,
   "metadata": {},
   "outputs": [
    {
     "data": {
      "text/plain": [
       "array([ 2,  7, 12, 17, 22])"
      ]
     },
     "execution_count": 43,
     "metadata": {},
     "output_type": "execute_result"
    }
   ],
   "source": [
    "mat[:,2]"
   ]
  },
  {
   "cell_type": "markdown",
   "metadata": {},
   "source": [
    "#### Get the 2nd column"
   ]
  },
  {
   "cell_type": "code",
   "execution_count": 4,
   "metadata": {},
   "outputs": [
    {
     "data": {
      "text/plain": [
       "array([5, 6, 7, 8, 9])"
      ]
     },
     "execution_count": 4,
     "metadata": {},
     "output_type": "execute_result"
    }
   ],
   "source": [
    "mat[1,:]"
   ]
  },
  {
   "cell_type": "markdown",
   "metadata": {},
   "source": [
    "#### Slicing\n",
    "Here we want to get a slice or a piece of the matrix. Let's say we want a 3x3 matrix with the values from the upper left corner from the original matrix. We can do it like this:"
   ]
  },
  {
   "cell_type": "code",
   "execution_count": 45,
   "metadata": {},
   "outputs": [
    {
     "data": {
      "text/plain": [
       "array([[ 0,  1,  2],\n",
       "       [ 5,  6,  7],\n",
       "       [10, 11, 12]])"
      ]
     },
     "execution_count": 45,
     "metadata": {},
     "output_type": "execute_result"
    }
   ],
   "source": [
    "mat[0:3, 0:3]"
   ]
  },
  {
   "cell_type": "markdown",
   "metadata": {},
   "source": [
    "#### Masking\n",
    "Masking is useful if we want to specify some limits. Let's say we only want from the matrix the values which are lower than 5. "
   ]
  },
  {
   "cell_type": "code",
   "execution_count": 46,
   "metadata": {},
   "outputs": [
    {
     "data": {
      "text/plain": [
       "array([[ True,  True,  True,  True,  True],\n",
       "       [False, False, False, False, False],\n",
       "       [False, False, False, False, False],\n",
       "       [False, False, False, False, False],\n",
       "       [False, False, False, False, False]])"
      ]
     },
     "execution_count": 46,
     "metadata": {},
     "output_type": "execute_result"
    }
   ],
   "source": [
    "mat < 5 # matrix with boolean values"
   ]
  },
  {
   "cell_type": "markdown",
   "metadata": {},
   "source": [
    "#### Get the actual values\n",
    "To get the actual values and not an array with boolean values we can do it like this:"
   ]
  },
  {
   "cell_type": "code",
   "execution_count": 47,
   "metadata": {},
   "outputs": [
    {
     "data": {
      "text/plain": [
       "array([0, 1, 2, 3, 4])"
      ]
     },
     "execution_count": 47,
     "metadata": {},
     "output_type": "execute_result"
    }
   ],
   "source": [
    "my_filer = mat < 5\n",
    "mat[my_filer]"
   ]
  },
  {
   "cell_type": "markdown",
   "metadata": {},
   "source": [
    "Or just"
   ]
  },
  {
   "cell_type": "code",
   "execution_count": 48,
   "metadata": {},
   "outputs": [
    {
     "data": {
      "text/plain": [
       "array([0, 1, 2, 3, 4])"
      ]
     },
     "execution_count": 48,
     "metadata": {},
     "output_type": "execute_result"
    }
   ],
   "source": [
    "mat[mat<5]"
   ]
  },
  {
   "cell_type": "markdown",
   "metadata": {},
   "source": [
    "# Hooray!\n",
    "\n",
    "With that, you actually completed the numpy crash course! Be proud of yourself that you did it! I hope this was useful for you, you can play around with it using different inputs and I'm looking to seeing you at the pandas crash course. \n",
    "\n",
    "---\n",
    "Thanks for reading, stay safe, and be happy."
   ]
  }
 ],
 "metadata": {
  "kernelspec": {
   "display_name": "Python 3",
   "language": "python",
   "name": "python3"
  },
  "language_info": {
   "codemirror_mode": {
    "name": "ipython",
    "version": 3
   },
   "file_extension": ".py",
   "mimetype": "text/x-python",
   "name": "python",
   "nbconvert_exporter": "python",
   "pygments_lexer": "ipython3",
   "version": "3.7.4"
  }
 },
 "nbformat": 4,
 "nbformat_minor": 2
}
